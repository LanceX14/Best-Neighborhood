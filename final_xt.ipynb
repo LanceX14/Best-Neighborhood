{
 "cells": [
  {
   "cell_type": "code",
   "execution_count": 314,
   "id": "acute-municipality",
   "metadata": {},
   "outputs": [],
   "source": [
    "import pandas as pd\n",
    "import matplotlib.pyplot as plt\n",
    "import numpy as np"
   ]
  },
  {
   "cell_type": "markdown",
   "id": "natural-reform",
   "metadata": {},
   "source": [
    "Playground is a good measure of overall livability. Because people can bring this place to relax at any time, and they can also bring children to play. At the same time, the facilities and quantity of the playground can also reflect the economic situation and entertainment methods of the neighborhoods. If there are far more playgrounds in one community than another, it can indicate that the society is more concerned about people's entertainment and life."
   ]
  },
  {
   "cell_type": "markdown",
   "id": "failing-pavilion",
   "metadata": {},
   "source": [
    "This database contains playgrounds in all neighborhoods in Pittsburgh and can show me various attributes of playgrounds. We first remove all playgrounds that contain null, because no matter which piece of information is missing (especially fire zone, police zone, safe surface type), the playground will look unsafe. After this, we remove some columns that are not relevant to the best community."
   ]
  },
  {
   "cell_type": "code",
   "execution_count": 315,
   "id": "danish-investigation",
   "metadata": {},
   "outputs": [
    {
     "data": {
      "text/html": [
       "<div>\n",
       "<style scoped>\n",
       "    .dataframe tbody tr th:only-of-type {\n",
       "        vertical-align: middle;\n",
       "    }\n",
       "\n",
       "    .dataframe tbody tr th {\n",
       "        vertical-align: top;\n",
       "    }\n",
       "\n",
       "    .dataframe thead th {\n",
       "        text-align: right;\n",
       "    }\n",
       "</style>\n",
       "<table border=\"1\" class=\"dataframe\">\n",
       "  <thead>\n",
       "    <tr style=\"text-align: right;\">\n",
       "      <th></th>\n",
       "      <th>ada_accessible</th>\n",
       "      <th>neighborhood</th>\n",
       "      <th>ward</th>\n",
       "    </tr>\n",
       "  </thead>\n",
       "  <tbody>\n",
       "    <tr>\n",
       "      <th>0</th>\n",
       "      <td>f</td>\n",
       "      <td>Beechview</td>\n",
       "      <td>19</td>\n",
       "    </tr>\n",
       "    <tr>\n",
       "      <th>1</th>\n",
       "      <td>f</td>\n",
       "      <td>Allegheny Center</td>\n",
       "      <td>22</td>\n",
       "    </tr>\n",
       "    <tr>\n",
       "      <th>2</th>\n",
       "      <td>f</td>\n",
       "      <td>Squirrel Hill South</td>\n",
       "      <td>14</td>\n",
       "    </tr>\n",
       "    <tr>\n",
       "      <th>5</th>\n",
       "      <td>f</td>\n",
       "      <td>Windgap</td>\n",
       "      <td>28</td>\n",
       "    </tr>\n",
       "    <tr>\n",
       "      <th>6</th>\n",
       "      <td>t</td>\n",
       "      <td>Windgap</td>\n",
       "      <td>28</td>\n",
       "    </tr>\n",
       "  </tbody>\n",
       "</table>\n",
       "</div>"
      ],
      "text/plain": [
       "  ada_accessible         neighborhood  ward\n",
       "0              f            Beechview    19\n",
       "1              f     Allegheny Center    22\n",
       "2              f  Squirrel Hill South    14\n",
       "5              f              Windgap    28\n",
       "6              t              Windgap    28"
      ]
     },
     "execution_count": 315,
     "metadata": {},
     "output_type": "execute_result"
    }
   ],
   "source": [
    "pe = pd.read_csv(\"https://data.wprdc.org/datastore/dump/e39ef76e-0a11-47c8-a86f-a37f55db7a2b\")\n",
    "pe = pe.dropna()\n",
    "pdd = pe.drop(columns=['name', 'id','street',\"street_number\",\"tract\",\"public_works_division\",\"fire_zone\",\"police_zone\",\"pli_division\",\"manufacturer\",\"council_district\",\"latitude\",\"longitude\",\"safety_surface_type\",\"equipment_type\"])\n",
    "pdd.head()"
   ]
  },
  {
   "cell_type": "markdown",
   "id": "entire-falls",
   "metadata": {},
   "source": [
    "A simple huge database can't reflect anything. We now find the 10 societies with the most playgrounds."
   ]
  },
  {
   "cell_type": "code",
   "execution_count": 316,
   "id": "faced-cornwall",
   "metadata": {},
   "outputs": [
    {
     "data": {
      "text/html": [
       "<div>\n",
       "<style scoped>\n",
       "    .dataframe tbody tr th:only-of-type {\n",
       "        vertical-align: middle;\n",
       "    }\n",
       "\n",
       "    .dataframe tbody tr th {\n",
       "        vertical-align: top;\n",
       "    }\n",
       "\n",
       "    .dataframe thead th {\n",
       "        text-align: right;\n",
       "    }\n",
       "</style>\n",
       "<table border=\"1\" class=\"dataframe\">\n",
       "  <thead>\n",
       "    <tr style=\"text-align: right;\">\n",
       "      <th></th>\n",
       "      <th>neighborhood</th>\n",
       "    </tr>\n",
       "  </thead>\n",
       "  <tbody>\n",
       "    <tr>\n",
       "      <th>Allegheny Center</th>\n",
       "      <td>13</td>\n",
       "    </tr>\n",
       "    <tr>\n",
       "      <th>Mount Washington</th>\n",
       "      <td>10</td>\n",
       "    </tr>\n",
       "    <tr>\n",
       "      <th>South Side Slopes</th>\n",
       "      <td>10</td>\n",
       "    </tr>\n",
       "    <tr>\n",
       "      <th>Beltzhoover</th>\n",
       "      <td>9</td>\n",
       "    </tr>\n",
       "    <tr>\n",
       "      <th>Elliott</th>\n",
       "      <td>9</td>\n",
       "    </tr>\n",
       "    <tr>\n",
       "      <th>Beechview</th>\n",
       "      <td>9</td>\n",
       "    </tr>\n",
       "    <tr>\n",
       "      <th>Sheraden</th>\n",
       "      <td>9</td>\n",
       "    </tr>\n",
       "    <tr>\n",
       "      <th>Squirrel Hill South</th>\n",
       "      <td>9</td>\n",
       "    </tr>\n",
       "    <tr>\n",
       "      <th>Regent Square</th>\n",
       "      <td>8</td>\n",
       "    </tr>\n",
       "    <tr>\n",
       "      <th>Bloomfield</th>\n",
       "      <td>7</td>\n",
       "    </tr>\n",
       "  </tbody>\n",
       "</table>\n",
       "</div>"
      ],
      "text/plain": [
       "                     neighborhood\n",
       "Allegheny Center               13\n",
       "Mount Washington               10\n",
       "South Side Slopes              10\n",
       "Beltzhoover                     9\n",
       "Elliott                         9\n",
       "Beechview                       9\n",
       "Sheraden                        9\n",
       "Squirrel Hill South             9\n",
       "Regent Square                   8\n",
       "Bloomfield                      7"
      ]
     },
     "execution_count": 316,
     "metadata": {},
     "output_type": "execute_result"
    }
   ],
   "source": [
    "count = pdd['neighborhood'].value_counts()\n",
    "count = count.to_frame()\n",
    "count.head(10)"
   ]
  },
  {
   "cell_type": "code",
   "execution_count": 317,
   "id": "advanced-reverse",
   "metadata": {},
   "outputs": [],
   "source": [
    "best_n = [\n",
    "    {\"Neighborhood\":\"Squirrel Hill South\", \"playground number\": 32},\n",
    "    {\"Neighborhood\":\"East Liberty\", \"playground number\": 26},\n",
    "    {\"Neighborhood\":\"Beechview\", \"playground number\":21 },\n",
    "    {\"Neighborhood\":\"Allegheny Center\", \"playground number\":15},\n",
    "    {\"Neighborhood\":\"South Side Slopes\", \"playground number\":14 },\n",
    "    {\"Neighborhood\":\"Hazelwood\", \"playground number\":13 },\n",
    "    {\"Neighborhood\":\"Sheraden\", \"playground number\":13 },\n",
    "    {\"Neighborhood\":\"Elliott\", \"playground number\":11 },\n",
    "    {\"Neighborhood\":\"Beltzhoover\", \"playground number\":10  },\n",
    "    {\"Neighborhood\":\"Highland Park\", \"playground number\":10 },\n",
    "]\n",
    "# create a DataFrame from a list of dictionaries\n",
    "w = pd.DataFrame(best_n)"
   ]
  },
  {
   "cell_type": "markdown",
   "id": "numerical-breeding",
   "metadata": {},
   "source": [
    "Next, we use plot to better observe the number of 10 playgrounds."
   ]
  },
  {
   "cell_type": "code",
   "execution_count": 318,
   "id": "dietary-defendant",
   "metadata": {},
   "outputs": [
    {
     "data": {
      "image/png": "[encoded data removed]",
      "text/plain": [
       "<Figure size 432x288 with 1 Axes>"
      ]
     },
     "metadata": {
      "needs_background": "light"
     },
     "output_type": "display_data"
    }
   ],
   "source": [
    "x = w[\"Neighborhood\"]\n",
    "y = w[\"playground number\"]\n",
    "plt.barh(x, y)\n",
    "plt.show()"
   ]
  },
  {
   "cell_type": "markdown",
   "id": "acting-still",
   "metadata": {},
   "source": [
    "We cannot judge the best neighborhoods based on the number of playgrounds alone. We should consider the number of ward in each playground. Such data can better reflect the overall situation."
   ]
  },
  {
   "cell_type": "code",
   "execution_count": 319,
   "id": "experienced-purpose",
   "metadata": {},
   "outputs": [
    {
     "data": {
      "image/png": "[encoded data removed]",
      "text/plain": [
       "<Figure size 432x288 with 1 Axes>"
      ]
     },
     "metadata": {
      "needs_background": "light"
     },
     "output_type": "display_data"
    }
   ],
   "source": [
    "query_mask = pdd['neighborhood'] == \"Squirrel Hill South\"\n",
    "chicken_bowls = pdd[query_mask]\n",
    "n1 = sum(chicken_bowls['ward'])/15\n",
    "\n",
    "query_mask = pdd['neighborhood'] == \"East Liberty\"\n",
    "chicken_bowls = pdd[query_mask]\n",
    "n2 = sum(chicken_bowls['ward'])/15\n",
    "\n",
    "query_mask = pdd['neighborhood'] == \"Beechview\"\n",
    "chicken_bowls = pdd[query_mask]\n",
    "n3 = sum(chicken_bowls['ward'])/15\n",
    "\n",
    "query_mask = pdd['neighborhood'] == \"Allegheny Center\"\n",
    "chicken_bowls = pdd[query_mask]\n",
    "n4 = sum(chicken_bowls['ward'])/15\n",
    "\n",
    "query_mask = pdd['neighborhood'] == \"South Side Slopes\"\n",
    "chicken_bowls = pdd[query_mask]\n",
    "n5 = sum(chicken_bowls['ward'])/15\n",
    "\n",
    "query_mask = pdd['neighborhood'] == \"Sheraden\"\n",
    "chicken_bowls = pdd[query_mask]\n",
    "n7 = sum(chicken_bowls['ward'])/15\n",
    "\n",
    "query_mask = pdd['neighborhood'] == \"Elliott\"\n",
    "chicken_bowls = pdd[query_mask]\n",
    "n8 = sum(chicken_bowls['ward'])/15\n",
    "\n",
    "query_mask = pdd['neighborhood'] == \"Highland Park\"\n",
    "chicken_bowls = pdd[query_mask]\n",
    "n9 = sum(chicken_bowls['ward'])/15\n",
    "\n",
    "query_mask = pdd['neighborhood'] == \"Hazelwood\"\n",
    "chicken_bowls = pdd[query_mask]\n",
    "n6 = sum(chicken_bowls['ward'])/15\n",
    "\n",
    "query_mask = pdd['neighborhood'] == \"Beltzhoover\"\n",
    "chicken_bowls = pdd[query_mask]\n",
    "n10 = sum(chicken_bowls['ward'])/15\n",
    "labels = ['Squirrel Hill South', 'Allegheny Center', 'South Side Slopesn', 'Beechview', \"Hazelwood\",\"Sheraden\",\"Elliott\",\"Highland Park\",\"Mount Washington\",\"Beltzhoover\"] \n",
    "   \n",
    "mine = [32, 26, 21, 15,14,13,13,11,10,10] \n",
    "others = [n1, n2, n3, n4,n5,n6,n7,n8,n9,n10]  \n",
    "width = 0.5\n",
    "fig, ax = plt.subplots() \n",
    "ax.barh(labels, mine, width,   \n",
    "        label ='Playground') \n",
    "ax.barh(labels, others, width,  \n",
    "        left = mine,  \n",
    "        label ='Wards') \n",
    "ax.set_xlabel('playground amount plus the ward amount') \n",
    "ax.legend() \n",
    "ax.set_title('Best Neighborhoods with playground condition') \n",
    "plt.show()"
   ]
  },
  {
   "cell_type": "code",
   "execution_count": 320,
   "id": "enclosed-velvet",
   "metadata": {},
   "outputs": [],
   "source": [
    "score = [\n",
    "    {\"Neighborhood\":\"Squirrel Hill South\", \"score\": 10},\n",
    "    {\"Neighborhood\":\"East Liberty\", \"score\": 9},\n",
    "    {\"Neighborhood\":\"Beechview\", \"score\":8 },\n",
    "    {\"Neighborhood\":\"Allegheny Center\", \"score\":7},\n",
    "    {\"Neighborhood\":\"South Side Slopes\", \"score\":6 },\n",
    "    {\"Neighborhood\":\"Hazelwood\", \"score\":5 },\n",
    "    {\"Neighborhood\":\"Sheraden\", \"score\":4 },\n",
    "    {\"Neighborhood\":\"Elliott\", \"score\":3 },\n",
    "    {\"Neighborhood\":\"Beltzhoover\", \"score\":2  },\n",
    "    {\"Neighborhood\":\"Highland Park\", \"score\":1 },\n",
    "]\n",
    "best = pd.DataFrame(score)"
   ]
  },
  {
   "cell_type": "code",
   "execution_count": 321,
   "id": "arbitrary-ticket",
   "metadata": {},
   "outputs": [
    {
     "data": {
      "text/html": [
       "<div>\n",
       "<style scoped>\n",
       "    .dataframe tbody tr th:only-of-type {\n",
       "        vertical-align: middle;\n",
       "    }\n",
       "\n",
       "    .dataframe tbody tr th {\n",
       "        vertical-align: top;\n",
       "    }\n",
       "\n",
       "    .dataframe thead th {\n",
       "        text-align: right;\n",
       "    }\n",
       "</style>\n",
       "<table border=\"1\" class=\"dataframe\">\n",
       "  <thead>\n",
       "    <tr style=\"text-align: right;\">\n",
       "      <th></th>\n",
       "      <th>Neighborhood</th>\n",
       "      <th>score</th>\n",
       "    </tr>\n",
       "  </thead>\n",
       "  <tbody>\n",
       "    <tr>\n",
       "      <th>0</th>\n",
       "      <td>Squirrel Hill South</td>\n",
       "      <td>10</td>\n",
       "    </tr>\n",
       "    <tr>\n",
       "      <th>1</th>\n",
       "      <td>East Liberty</td>\n",
       "      <td>9</td>\n",
       "    </tr>\n",
       "    <tr>\n",
       "      <th>2</th>\n",
       "      <td>Beechview</td>\n",
       "      <td>8</td>\n",
       "    </tr>\n",
       "    <tr>\n",
       "      <th>3</th>\n",
       "      <td>Allegheny Center</td>\n",
       "      <td>7</td>\n",
       "    </tr>\n",
       "    <tr>\n",
       "      <th>4</th>\n",
       "      <td>South Side Slopes</td>\n",
       "      <td>6</td>\n",
       "    </tr>\n",
       "    <tr>\n",
       "      <th>5</th>\n",
       "      <td>Hazelwood</td>\n",
       "      <td>5</td>\n",
       "    </tr>\n",
       "    <tr>\n",
       "      <th>6</th>\n",
       "      <td>Sheraden</td>\n",
       "      <td>4</td>\n",
       "    </tr>\n",
       "    <tr>\n",
       "      <th>7</th>\n",
       "      <td>Elliott</td>\n",
       "      <td>3</td>\n",
       "    </tr>\n",
       "    <tr>\n",
       "      <th>8</th>\n",
       "      <td>Beltzhoover</td>\n",
       "      <td>2</td>\n",
       "    </tr>\n",
       "    <tr>\n",
       "      <th>9</th>\n",
       "      <td>Highland Park</td>\n",
       "      <td>1</td>\n",
       "    </tr>\n",
       "  </tbody>\n",
       "</table>\n",
       "</div>"
      ],
      "text/plain": [
       "          Neighborhood  score\n",
       "0  Squirrel Hill South     10\n",
       "1         East Liberty      9\n",
       "2            Beechview      8\n",
       "3     Allegheny Center      7\n",
       "4    South Side Slopes      6\n",
       "5            Hazelwood      5\n",
       "6             Sheraden      4\n",
       "7              Elliott      3\n",
       "8          Beltzhoover      2\n",
       "9        Highland Park      1"
      ]
     },
     "execution_count": 321,
     "metadata": {},
     "output_type": "execute_result"
    }
   ],
   "source": [
    "best"
   ]
  },
  {
   "cell_type": "code",
   "execution_count": null,
   "id": "postal-mayor",
   "metadata": {},
   "outputs": [],
   "source": []
  }
 ],
 "metadata": {
  "kernelspec": {
   "display_name": "Python 3",
   "language": "python",
   "name": "python3"
  },
  "language_info": {
   "codemirror_mode": {
    "name": "ipython",
    "version": 3
   },
   "file_extension": ".py",
   "mimetype": "text/x-python",
   "name": "python",
   "nbconvert_exporter": "python",
   "pygments_lexer": "ipython3",
   "version": "3.8.5"
  }
 },
 "nbformat": 4,
 "nbformat_minor": 5
}
